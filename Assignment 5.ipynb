{
 "cells": [
  {
   "cell_type": "code",
   "execution_count": 10,
   "id": "b2f4a1c1-0489-4ad2-819a-1d40e86fd37a",
   "metadata": {},
   "outputs": [
    {
     "name": "stdout",
     "output_type": "stream",
     "text": [
      "[[1 2]\n",
      " [3 4]]\n"
     ]
    }
   ],
   "source": [
    "# 1.Ans.\n",
    "\n",
    "import numpy as np\n",
    "def twoDarray(arr,rows,cols):\n",
    "    if len(arr) != rows*cols:\n",
    "        \n",
    "        return []\n",
    "    \n",
    "    return np.array(arr).reshape((rows,cols))\n",
    "\n",
    "original = [1,2,3,4]\n",
    "convertedArray = twoDarray(original,2,2)\n",
    "print(convertedArray)"
   ]
  },
  {
   "cell_type": "code",
   "execution_count": 12,
   "id": "939b7207-739a-4a87-8425-9c08778be24f",
   "metadata": {},
   "outputs": [
    {
     "name": "stdout",
     "output_type": "stream",
     "text": [
      "2\n"
     ]
    }
   ],
   "source": [
    "# 2.Ans.\n",
    "\n",
    "def completeRows(n):\n",
    "    complete_rows=0\n",
    "    coins = 1\n",
    "    \n",
    "    while n>=coins:\n",
    "        n-=coins\n",
    "        complete_rows+=1\n",
    "        coins+=1\n",
    "    return complete_rows\n",
    "\n",
    "n=5\n",
    "print(completeRows(n))\n",
    "        \n"
   ]
  },
  {
   "cell_type": "code",
   "execution_count": 22,
   "id": "88f1804f-10d4-4d4e-9bbf-fd2c3f93e964",
   "metadata": {},
   "outputs": [
    {
     "name": "stdout",
     "output_type": "stream",
     "text": [
      "[0, 1, 9, 16, 100]\n"
     ]
    }
   ],
   "source": [
    "# 3.Ans.\n",
    "\n",
    "def squares(nums):\n",
    "    return sorted(map(lambda x:x**2,nums))\n",
    "nums = [-4,-1,0,3,10]\n",
    "print(squares(nums))\n",
    "    "
   ]
  },
  {
   "cell_type": "code",
   "execution_count": 1,
   "id": "5f95b412-f6fc-4aed-9d1f-2eee08e35bc3",
   "metadata": {},
   "outputs": [
    {
     "name": "stdout",
     "output_type": "stream",
     "text": [
      "[[1, 3], [4, 6]]\n"
     ]
    }
   ],
   "source": [
    "# 4.Ans.\n",
    "\n",
    "def indexedInteger(nums1,nums2):\n",
    "    set1 = set(nums1)\n",
    "    set2 = set(nums2)\n",
    "    \n",
    "    a = list(set1-set2)\n",
    "    b = list(set2-set1)\n",
    "    \n",
    "    return [a,b]\n",
    "\n",
    "nums1 = [1,2,3]\n",
    "nums2 = [2,4,6]\n",
    "\n",
    "print(indexedInteger(nums1,nums2))\n",
    "\n",
    "\n",
    "\n",
    "\n"
   ]
  },
  {
   "cell_type": "code",
   "execution_count": 3,
   "id": "7443f655-2869-42b4-8d0b-98c81799c550",
   "metadata": {},
   "outputs": [
    {
     "name": "stdout",
     "output_type": "stream",
     "text": [
      "2\n"
     ]
    }
   ],
   "source": [
    "# 5.Ans.\n",
    "\n",
    "def distanceTwoarray(arr1,arr2,d):\n",
    "    dist=0\n",
    "    for num1 in arr1:\n",
    "        element = False\n",
    "        \n",
    "        for num2 in arr2:\n",
    "            if abs(num1-num2)<=d:\n",
    "                element=True\n",
    "                break\n",
    "        if not element:\n",
    "            dist+=1\n",
    "    return dist\n",
    "arr1 = [4,5,8]\n",
    "arr2 = [10,9,1,8]\n",
    "d = 2\n",
    "\n",
    "print(distanceTwoarray(arr1,arr2,d))"
   ]
  },
  {
   "cell_type": "code",
   "execution_count": 10,
   "id": "02927fa7-accb-4feb-8b2c-5a1a4f330c53",
   "metadata": {},
   "outputs": [
    {
     "name": "stdout",
     "output_type": "stream",
     "text": [
      "[2, 3]\n"
     ]
    }
   ],
   "source": [
    "# 6.Ans.\n",
    "\n",
    "def twiceNumber(nums):\n",
    "    ans = []\n",
    "    \n",
    "    for num in nums:\n",
    "        index = abs(num) - 1\n",
    "        if nums[index] < 0:\n",
    "            ans.append(abs(num))\n",
    "        else:\n",
    "            nums[index] = -nums[index]\n",
    "\n",
    "    return ans\n",
    "\n",
    "\n",
    "nums = [4,3,2,7,8,2,3,1]\n",
    "print(twiceNumber(nums))\n",
    "            "
   ]
  },
  {
   "cell_type": "code",
   "execution_count": 11,
   "id": "f9ca3f9a-635b-4c5e-b919-f961f357a201",
   "metadata": {},
   "outputs": [
    {
     "name": "stdout",
     "output_type": "stream",
     "text": [
      "1\n"
     ]
    }
   ],
   "source": [
    "# 7.Ans.\n",
    "\n",
    "def sortedArray(nums):\n",
    "    left = 0\n",
    "    right = len(nums) - 1\n",
    "\n",
    "    while nums[left] > nums[right]:\n",
    "        mid = (left + right) // 2\n",
    "\n",
    "        if nums[mid] > nums[right]:\n",
    "            left = mid + 1\n",
    "        else:\n",
    "            right = mid\n",
    "\n",
    "    return nums[left]\n",
    "\n",
    "nums=[3,4,5,1,2]\n",
    "print(sortedArray(nums))\n"
   ]
  },
  {
   "cell_type": "code",
   "execution_count": 54,
   "id": "993c29ec-d6f6-471a-944b-b9bb9aaebfd6",
   "metadata": {},
   "outputs": [
    {
     "name": "stdout",
     "output_type": "stream",
     "text": [
      "[1, 3, 4]\n"
     ]
    }
   ],
   "source": [
    "# 8.Ans.\n",
    "\n",
    "from collections import deque\n",
    "\n",
    "def findOriginalArray(changed):\n",
    "    queue = deque()\n",
    "    changed.sort()\n",
    "    result = []\n",
    "    \n",
    "    for num in changed:\n",
    "        if queue and num == queue[0]:\n",
    "            queue.popleft()\n",
    "        else:\n",
    "            queue.append(num * 2)\n",
    "            result.append(num)\n",
    "    \n",
    "    return [] if queue else result\n",
    "\n",
    "changed=[1,3,4,2,6,8]\n",
    "print(findOriginalArray(changed))"
   ]
  },
  {
   "cell_type": "code",
   "execution_count": null,
   "id": "19fb5e4c-4b32-48e2-94ca-d3ae0848d422",
   "metadata": {},
   "outputs": [],
   "source": []
  }
 ],
 "metadata": {
  "kernelspec": {
   "display_name": "Python 3 (ipykernel)",
   "language": "python",
   "name": "python3"
  },
  "language_info": {
   "codemirror_mode": {
    "name": "ipython",
    "version": 3
   },
   "file_extension": ".py",
   "mimetype": "text/x-python",
   "name": "python",
   "nbconvert_exporter": "python",
   "pygments_lexer": "ipython3",
   "version": "3.10.6"
  }
 },
 "nbformat": 4,
 "nbformat_minor": 5
}
